{
 "cells": [
  {
   "cell_type": "markdown",
   "id": "920fa946-cc16-4bd4-864c-7c1ce43f9fee",
   "metadata": {},
   "source": [
    "# Hebbian Neual network; Learning with no Backpropagation"
   ]
  },
  {
   "cell_type": "code",
   "execution_count": 1,
   "id": "cf83db7a-8b80-41e9-8205-c348e4a724be",
   "metadata": {},
   "outputs": [],
   "source": [
    "import random\n",
    "import numpy as np\n",
    "import matplotlib.pyplot as plt\n",
    "%matplotlib inline\n",
    "\n",
    "from tensorflow.keras.datasets import mnist\n",
    "\n",
    "\n",
    "(x_train, y_train), (x_test, y_test) = mnist.load_data()"
   ]
  },
  {
   "cell_type": "code",
   "execution_count": 148,
   "id": "03ba2104-deb6-42c8-b2cb-397dd4c35ab5",
   "metadata": {},
   "outputs": [],
   "source": [
    "# Learning\n",
    "\n",
    "# the more turned on a neuron is the more it learns\n",
    "# the idea is if i create athe weights as a function of the inputs then it should be the same as going backprop which looks at how much the wieght impact the loss\n",
    "# which i think is a concequence of the weights being a function of the inputs\n",
    "\n",
    "# create the (1+imput percentage matrix)\n",
    "\n",
    "\n",
    "\n",
    "def create_mem(imput_1):\n",
    "    memory_imput_1 = np.zeros(imput_1.shape)\n",
    "    indexx = 0\n",
    "    the_max_val = np.amax(imput_1)\n",
    "    for i in imput_1:\n",
    "        if (i[0]/the_max_val) < 0.70:\n",
    "            memory_imput_1[indexx] = 1 - i[0]/the_max_val\n",
    "        else:\n",
    "            memory_imput_1[indexx] = 1 + i[0]/the_max_val\n",
    "        indexx += 1\n",
    "    return memory_imput_1\n",
    "\n",
    "def linear(W,output_old):\n",
    "    new_out = W @ output_old\n",
    "    return new_out\n",
    "\n",
    "def update_weights(W, mem):\n",
    "    \n",
    "    new = np.zeros_like(W)\n",
    "    \n",
    "    b = np.reshape(mem,(W.shape[1],))\n",
    "    \n",
    "    for i in range(W.shape[0]):\n",
    "        new[i] = W[i]*b\n",
    "    return new\n",
    "        \n",
    "        \n",
    "        "
   ]
  },
  {
   "cell_type": "code",
   "execution_count": 149,
   "id": "f6c91401-a8a0-47cd-aab3-c51d949b81d2",
   "metadata": {},
   "outputs": [],
   "source": [
    "# testing on itteration\n",
    "# one: No convolution:\n",
    "\n",
    "\n",
    "\n",
    "def one_iteration(x_train,W_1,W_2,W_3,total):\n",
    "    for number in x_train:\n",
    "        out,W_1,W_2,W_3 = forward_pass(number,W_1,W_2,W_3)\n",
    "        total = np.c_[total,out]\n",
    "\n",
    "\n",
    "\n",
    "        \n",
    "        \n",
    "    return total,W_1,W_2,W_3\n",
    "\n",
    "#total,W_1,W_2 = one_iteration(x_train,W_1,W_2,total)\n",
    "        \n",
    "\n",
    "def test(W_1,W_2,W_3,img):\n",
    "    out = np.zeros((10,1))\n",
    "    for i in img:\n",
    "        imput_1 = np.reshape(i/255,(784,1))\n",
    "\n",
    "        out_1 = linear(W_1,imput_1)\n",
    "        out_2 = linear(W_2,out_1)\n",
    "        output = linear(W_3,out_2)\n",
    "        out = np.c_[out,output]\n",
    "\n",
    "    \n",
    "    return out,W_1,W_2,W_3\n",
    "    \n",
    "    \n",
    "        \n",
    "        \n",
    "        \n",
    "\n",
    "\n"
   ]
  },
  {
   "cell_type": "code",
   "execution_count": 150,
   "id": "aaa1ff1b-13a0-4dcd-88e7-18609aa432d8",
   "metadata": {},
   "outputs": [],
   "source": [
    "\n",
    "def forward_pass(img, W_1,W_2,W_3):\n",
    "\n",
    "    imput_1 = np.reshape(img/255,(784,1))\n",
    "    \n",
    "    mem_1 = create_mem(imput_1)\n",
    "\n",
    "    out_1 = linear(W_1,imput_1)\n",
    "\n",
    "    mem_2 = create_mem(out_1)\n",
    "\n",
    "    out_2 = linear(W_2,out_1)\n",
    "    \n",
    "    mem_3 = create_mem(out_2)\n",
    "    \n",
    "    out = linear(W_3,out_2)\n",
    "    \n",
    "    \n",
    "    \n",
    "    W_1 = update_weights(W_1,mem_1)\n",
    "    norm = np.linalg.norm(W_1)\n",
    "    W_1 = W_1/norm\n",
    "    \n",
    "    W_2 = update_weights(W_2,mem_2)\n",
    "    norm = np.linalg.norm(W_2)\n",
    "    W_2 = W_2/norm\n",
    "    \n",
    "    W_3 = update_weights(W_3,mem_3)\n",
    "    norm = np.linalg.norm(W_3)\n",
    "    W_3 = W_3/norm\n",
    "\n",
    "    \n",
    "    return out,W_1,W_2,W_3\n"
   ]
  },
  {
   "cell_type": "code",
   "execution_count": 151,
   "id": "27fa2630-4d9c-4dc3-9043-f0e58dc74fef",
   "metadata": {},
   "outputs": [],
   "source": [
    "indices = np.where(y_train == 3)[0]\n",
    "selected_x_train = x_train[indices]"
   ]
  },
  {
   "cell_type": "code",
   "execution_count": 152,
   "id": "ba196566-68bd-4b71-b336-d6c82867d24c",
   "metadata": {},
   "outputs": [],
   "source": [
    "W_1 = np.random.normal(0,1,size=(256,784))\n",
    "norm = np.linalg.norm(W_1)\n",
    "W_1 = W_1/norm\n",
    "\n",
    "W_2 = np.random.normal(0,1,size=(32,256))\n",
    "norm = np.linalg.norm(W_2)\n",
    "W_2 = W_2/norm\n",
    "\n",
    "W_3 = np.random.normal(0,1,size=(10,32))\n",
    "norm = np.linalg.norm(W_3)\n",
    "W_3 = W_3/norm\n",
    "\n",
    "total = np.zeros((10,1))"
   ]
  },
  {
   "cell_type": "code",
   "execution_count": 153,
   "id": "6c3ba22f-a394-41d6-ac7c-008ea449a12d",
   "metadata": {},
   "outputs": [],
   "source": [
    "total,W_1,W_2,W_3 = one_iteration(selected_x_train,W_1,W_2,W_3,total)"
   ]
  },
  {
   "cell_type": "code",
   "execution_count": 154,
   "id": "cfd980f1-242b-4b0e-a174-e654119688ee",
   "metadata": {},
   "outputs": [
    {
     "data": {
      "image/png": "[encoded data removed]",
      "text/plain": [
       "<Figure size 432x288 with 1 Axes>"
      ]
     },
     "metadata": {
      "needs_background": "light"
     },
     "output_type": "display_data"
    }
   ],
   "source": [
    "plt.imshow(total[:,-100:], cmap='gray')\n",
    "plt.show()\n"
   ]
  },
  {
   "cell_type": "code",
   "execution_count": 155,
   "id": "e7d5835a-3315-40a7-8c17-58707d9cdef9",
   "metadata": {},
   "outputs": [
    {
     "data": {
      "image/png": "[encoded data removed]",
      "text/plain": [
       "<Figure size 432x288 with 1 Axes>"
      ]
     },
     "metadata": {
      "needs_background": "light"
     },
     "output_type": "display_data"
    }
   ],
   "source": [
    "out,W_1,W_2,W_3 = test(W_1,W_2,W_3,x_train[0:10,:,:])\n",
    "plt.imshow(out, cmap='gray')\n",
    "plt.show()"
   ]
  },
  {
   "cell_type": "code",
   "execution_count": 156,
   "id": "d32ab11e-1f53-4ab0-a54b-50d1803af381",
   "metadata": {},
   "outputs": [
    {
     "data": {
      "text/plain": [
       "array([5, 0, 4, 1, 9, 2, 1, 3, 1, 4], dtype=uint8)"
      ]
     },
     "execution_count": 156,
     "metadata": {},
     "output_type": "execute_result"
    }
   ],
   "source": [
    "y_train[0:10]"
   ]
  },
  {
   "cell_type": "code",
   "execution_count": 163,
   "id": "4261b85a-b298-447c-a3c7-668538f6cc48",
   "metadata": {},
   "outputs": [
    {
     "data": {
      "text/plain": [
       "array([-0.0021,  0.0021,  0.0035,  0.0031,  0.004 ,  0.0027,  0.0012,\n",
       "        0.005 , -0.0033, -0.0012])"
      ]
     },
     "execution_count": 163,
     "metadata": {},
     "output_type": "execute_result"
    }
   ],
   "source": [
    "np.round(out[:,8],decimals = 4)"
   ]
  },
  {
   "cell_type": "code",
   "execution_count": 164,
   "id": "ce14a7e0-d1ac-4289-83b3-cf61deda8d76",
   "metadata": {},
   "outputs": [
    {
     "data": {
      "text/plain": [
       "array([-0.0026,  0.0025,  0.0043,  0.0037,  0.0048,  0.0032,  0.0015,\n",
       "        0.006 , -0.004 , -0.0014])"
      ]
     },
     "execution_count": 164,
     "metadata": {},
     "output_type": "execute_result"
    }
   ],
   "source": [
    "np.round(total[:,-1],decimals = 4)"
   ]
  },
  {
   "cell_type": "code",
   "execution_count": 165,
   "id": "2e8644df-44db-42ba-95c8-61d1a990160a",
   "metadata": {},
   "outputs": [
    {
     "data": {
      "text/plain": [
       "array([-0.0026,  0.0025,  0.0042,  0.0037,  0.0048,  0.0032,  0.0014,\n",
       "        0.006 , -0.0039, -0.0014])"
      ]
     },
     "execution_count": 165,
     "metadata": {},
     "output_type": "execute_result"
    }
   ],
   "source": [
    "np.round(out[:,7],decimals = 4)"
   ]
  },
  {
   "cell_type": "code",
   "execution_count": 160,
   "id": "b136ddbd-0af2-4d32-96ec-76d8905681f1",
   "metadata": {},
   "outputs": [
    {
     "data": {
      "image/png": "[encoded data removed]",
      "text/plain": [
       "<Figure size 432x288 with 1 Axes>"
      ]
     },
     "metadata": {
      "needs_background": "light"
     },
     "output_type": "display_data"
    }
   ],
   "source": [
    "plt.imshow(W_3, cmap='gray')\n",
    "plt.show()"
   ]
  },
  {
   "cell_type": "code",
   "execution_count": 161,
   "id": "09784426-ca7d-4b36-a24c-214d601db471",
   "metadata": {},
   "outputs": [
    {
     "data": {
      "text/plain": [
       "array([[ 0.        ,  0.        ,  0.        , -0.        ,  0.        ,\n",
       "         0.        ,  0.        , -0.        , -0.        , -0.        ,\n",
       "         0.        , -0.        ,  0.        , -0.        ,  0.        ,\n",
       "        -0.22250044,  0.        ,  0.        , -0.        , -0.        ,\n",
       "         0.        ,  0.        , -0.        ,  0.        , -0.        ,\n",
       "        -0.        ,  0.        ,  0.        , -0.        , -0.        ,\n",
       "         0.        , -0.        ],\n",
       "       [-0.        ,  0.        , -0.        ,  0.        ,  0.        ,\n",
       "         0.        ,  0.        , -0.        , -0.        , -0.        ,\n",
       "         0.        , -0.        , -0.        ,  0.        , -0.        ,\n",
       "         0.21867702,  0.        ,  0.        ,  0.        ,  0.        ,\n",
       "         0.        , -0.        ,  0.        ,  0.        , -0.        ,\n",
       "         0.        ,  0.        , -0.        ,  0.        , -0.        ,\n",
       "        -0.        ,  0.        ],\n",
       "       [-0.        ,  0.        , -0.        , -0.        ,  0.        ,\n",
       "        -0.        , -0.        , -0.        , -0.        ,  0.        ,\n",
       "         0.        ,  0.        , -0.        , -0.        ,  0.        ,\n",
       "         0.3673485 , -0.        ,  0.        ,  0.        , -0.        ,\n",
       "         0.        ,  0.        , -0.        ,  0.        , -0.        ,\n",
       "        -0.        ,  0.        , -0.        , -0.        ,  0.        ,\n",
       "        -0.        , -0.        ],\n",
       "       [ 0.        , -0.        , -0.        ,  0.        ,  0.        ,\n",
       "        -0.        , -0.        ,  0.        ,  0.        ,  0.        ,\n",
       "         0.        , -0.        ,  0.        , -0.        , -0.        ,\n",
       "         0.32267144, -0.        , -0.        , -0.        ,  0.        ,\n",
       "        -0.        , -0.        , -0.        ,  0.        ,  0.        ,\n",
       "         0.        ,  0.        ,  0.        , -0.        , -0.        ,\n",
       "        -0.        ,  0.        ],\n",
       "       [-0.        ,  0.        , -0.        , -0.        ,  0.        ,\n",
       "        -0.        , -0.        , -0.        ,  0.        ,  0.        ,\n",
       "        -0.        ,  0.        ,  0.        ,  0.        , -0.        ,\n",
       "         0.41452072, -0.        , -0.        , -0.        , -0.        ,\n",
       "         0.        ,  0.        ,  0.        ,  0.        ,  0.        ,\n",
       "         0.        , -0.        ,  0.        , -0.        , -0.        ,\n",
       "         0.        ,  0.        ],\n",
       "       [-0.        ,  0.        ,  0.        , -0.        , -0.        ,\n",
       "         0.        ,  0.        , -0.        ,  0.        , -0.        ,\n",
       "        -0.        , -0.        ,  0.        , -0.        , -0.        ,\n",
       "         0.27880299, -0.        ,  0.        , -0.        ,  0.        ,\n",
       "        -0.        , -0.        , -0.        ,  0.        , -0.        ,\n",
       "         0.        , -0.        , -0.        , -0.        , -0.        ,\n",
       "        -0.        ,  0.        ],\n",
       "       [ 0.        ,  0.        ,  0.        , -0.        , -0.        ,\n",
       "        -0.        ,  0.        ,  0.        , -0.        ,  0.        ,\n",
       "         0.        , -0.        , -0.        ,  0.        , -0.        ,\n",
       "         0.12574641, -0.        ,  0.        , -0.        ,  0.        ,\n",
       "         0.        , -0.        ,  0.        ,  0.        ,  0.        ,\n",
       "         0.        , -0.        ,  0.        , -0.        , -0.        ,\n",
       "         0.        ,  0.        ],\n",
       "       [-0.        , -0.        , -0.        ,  0.        ,  0.        ,\n",
       "        -0.        ,  0.        ,  0.        ,  0.        ,  0.        ,\n",
       "        -0.        , -0.        , -0.        , -0.        , -0.        ,\n",
       "         0.51726833,  0.        , -0.        ,  0.        ,  0.        ,\n",
       "         0.        , -0.        ,  0.        ,  0.        , -0.        ,\n",
       "        -0.        ,  0.        ,  0.        ,  0.        ,  0.        ,\n",
       "        -0.        ,  0.        ],\n",
       "       [ 0.        , -0.        , -0.        , -0.        , -0.        ,\n",
       "         0.        ,  0.        , -0.        ,  0.        ,  0.        ,\n",
       "        -0.        ,  0.        , -0.        ,  0.        , -0.        ,\n",
       "        -0.3408416 ,  0.        , -0.        ,  0.        ,  0.        ,\n",
       "        -0.        ,  0.        , -0.        , -0.        ,  0.        ,\n",
       "        -0.        , -0.        ,  0.        , -0.        , -0.        ,\n",
       "        -0.        ,  0.        ],\n",
       "       [-0.        ,  0.        , -0.        , -0.        , -0.        ,\n",
       "        -0.        ,  0.        , -0.        , -0.        ,  0.        ,\n",
       "         0.        , -0.        ,  0.        , -0.        ,  0.        ,\n",
       "        -0.12042395, -0.        ,  0.        , -0.        ,  0.        ,\n",
       "         0.        ,  0.        ,  0.        ,  0.        , -0.        ,\n",
       "        -0.        ,  0.        ,  0.        , -0.        ,  0.        ,\n",
       "         0.        ,  0.        ]])"
      ]
     },
     "execution_count": 161,
     "metadata": {},
     "output_type": "execute_result"
    }
   ],
   "source": [
    "W_3"
   ]
  },
  {
   "cell_type": "code",
   "execution_count": null,
   "id": "9468167a-674c-4788-9ec1-2f61a01d08a1",
   "metadata": {},
   "outputs": [],
   "source": []
  }
 ],
 "metadata": {
  "kernelspec": {
   "display_name": "Python 3 (ipykernel)",
   "language": "python",
   "name": "python3"
  },
  "language_info": {
   "codemirror_mode": {
    "name": "ipython",
    "version": 3
   },
   "file_extension": ".py",
   "mimetype": "text/x-python",
   "name": "python",
   "nbconvert_exporter": "python",
   "pygments_lexer": "ipython3",
   "version": "3.9.12"
  }
 },
 "nbformat": 4,
 "nbformat_minor": 5
}
