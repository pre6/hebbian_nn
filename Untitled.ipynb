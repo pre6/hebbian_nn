{
 "cells": [
  {
   "cell_type": "markdown",
   "id": "12314112-274c-4311-88e5-f1d42541fe0d",
   "metadata": {},
   "source": [
    "# Experiment: Hebbian Plasticity, learning with no backpropagation "
   ]
  },
  {
   "cell_type": "code",
   "execution_count": 161,
   "id": "0171921b-29f3-4383-aa57-f34d01a100d8",
   "metadata": {},
   "outputs": [],
   "source": [
    "import random\n",
    "import numpy as np\n",
    "import matplotlib.pyplot as plt\n",
    "%matplotlib inline\n",
    "\n",
    "from tensorflow.keras.datasets import mnist\n",
    "\n",
    "\n",
    "(x_train, y_train), (x_test, y_test) = mnist.load_data()"
   ]
  },
  {
   "cell_type": "code",
   "execution_count": 162,
   "id": "d8b380f9-2292-4a45-8617-52ab7d3de771",
   "metadata": {},
   "outputs": [
    {
     "data": {
      "image/png": "[encoded data removed]",
      "text/plain": [
       "<Figure size 432x288 with 1 Axes>"
      ]
     },
     "metadata": {
      "needs_background": "light"
     },
     "output_type": "display_data"
    },
    {
     "name": "stdout",
     "output_type": "stream",
     "text": [
      "(28, 28)\n",
      "(60000, 28, 28)\n"
     ]
    }
   ],
   "source": [
    "# Select an image from the dataset\n",
    "img = x_train[89]\n",
    "\n",
    "# Plot the image\n",
    "plt.imshow(img, cmap='gray')\n",
    "plt.show()\n",
    "print(img.shape)\n",
    "print(x_train.shape)"
   ]
  },
  {
   "cell_type": "code",
   "execution_count": 163,
   "id": "d3b6c4c4-f09d-42a6-aaff-750adfb5ab3c",
   "metadata": {},
   "outputs": [
    {
     "data": {
      "text/plain": [
       "array([[-3., -3., -3., -3., -3.],\n",
       "       [-3., 50., 50., 50., -3.],\n",
       "       [-3., 50., 50., 50., -3.],\n",
       "       [-3., 50., 50., 50., -3.],\n",
       "       [-3., -3., -3., -3., -3.]])"
      ]
     },
     "execution_count": 163,
     "metadata": {},
     "output_type": "execute_result"
    }
   ],
   "source": [
    "# make our filter\n",
    "\n",
    "W = np.zeros((3,3)) + 50\n",
    "W = np.pad(W, ((1,1),(1,1)), mode='constant', constant_values = (-3,-3))\n",
    "\n",
    "W\n"
   ]
  },
  {
   "cell_type": "code",
   "execution_count": 164,
   "id": "32bd567f-a868-4277-b616-b01064729211",
   "metadata": {},
   "outputs": [],
   "source": [
    "# One convolution function:\n",
    "\n",
    "def one_conv(W,img):\n",
    "    f = W.shape[0]\n",
    "    (n_h,n_w)=img.shape\n",
    "    \n",
    "    n_hout = n_h-f+1\n",
    "    n_wout = n_w-f+1\n",
    "    Z = np.zeros((n_hout,n_wout))\n",
    "    \n",
    "    for h in range(n_hout):\n",
    "        vertical_start = h\n",
    "        vertical_end = vertical_start + f\n",
    "        for w in range(n_wout):\n",
    "            horizontal_start = w\n",
    "            horizontal_end = horizontal_start + f\n",
    "        \n",
    "            img_slice = img[vertical_start:vertical_end, horizontal_start:horizontal_end]\n",
    "\n",
    "            s = img_slice * W\n",
    "\n",
    "            number = np.sum(s)/16\n",
    "\n",
    "            Z[h][w] = number\n",
    "    return Z\n",
    "        \n",
    "        \n",
    "        \n",
    "    \n"
   ]
  },
  {
   "cell_type": "code",
   "execution_count": 165,
   "id": "d222c7cc-1c73-4e91-9516-4938b379ac09",
   "metadata": {},
   "outputs": [
    {
     "data": {
      "image/png": "[encoded data removed]",
      "text/plain": [
       "<Figure size 432x288 with 1 Axes>"
      ]
     },
     "metadata": {
      "needs_background": "light"
     },
     "output_type": "display_data"
    }
   ],
   "source": [
    "Z = one_conv(W,img)\n",
    "\n",
    "plt.imshow(Z, cmap='gray')\n",
    "plt.show()"
   ]
  },
  {
   "cell_type": "code",
   "execution_count": 166,
   "id": "917e62b3-0833-444b-9715-33cfd5fa075e",
   "metadata": {},
   "outputs": [
    {
     "data": {
      "text/plain": [
       "array([[ 0.23446512, -0.64799514,  0.14864186,  1.52308433,  0.5346001 ,\n",
       "        -0.49469529, -0.11702446, -1.82126334],\n",
       "       [ 0.11561658, -0.16947455,  1.53723477, -0.40874682,  0.37650729,\n",
       "        -0.33795316, -0.90730542, -0.81569298],\n",
       "       [ 0.60521331,  0.75334202, -0.57598928,  0.77692889,  1.42380177,\n",
       "        -0.17629477, -0.19672912,  0.49724429],\n",
       "       [-0.1215802 ,  2.40143257,  0.74226612, -1.69908211,  0.40618231,\n",
       "         0.57141077, -2.07586668, -0.62016477],\n",
       "       [-0.37136001,  1.53234714,  0.21869934, -0.68204357,  1.40069006,\n",
       "         1.06014648, -0.57295002,  0.72270416],\n",
       "       [-0.59806873,  1.74725804,  0.33875724,  1.0492629 ,  0.95508762,\n",
       "        -1.82898834, -1.11369829, -1.29463011],\n",
       "       [ 1.28712339, -1.51904739,  0.75001692,  0.84168536, -2.25789125,\n",
       "        -2.09144804,  0.83790491,  0.43576433],\n",
       "       [ 0.19449995,  2.33636873, -0.6607476 ,  0.31915483, -2.01934793,\n",
       "        -0.40051681,  0.87766941, -0.6343838 ]])"
      ]
     },
     "execution_count": 166,
     "metadata": {},
     "output_type": "execute_result"
    }
   ],
   "source": [
    "# I was just checking if this works and it does: use random normal weights\n",
    "\n",
    "W=np.random.normal(0, 1, size=(8, 8))\n",
    "W"
   ]
  },
  {
   "cell_type": "code",
   "execution_count": 167,
   "id": "9766efdb-8f14-48c5-bb77-79c1b1cf4dae",
   "metadata": {},
   "outputs": [
    {
     "data": {
      "image/png": "[encoded data removed]",
      "text/plain": [
       "<Figure size 432x288 with 1 Axes>"
      ]
     },
     "metadata": {
      "needs_background": "light"
     },
     "output_type": "display_data"
    },
    {
     "name": "stdout",
     "output_type": "stream",
     "text": [
      "(21, 21)\n"
     ]
    },
    {
     "data": {
      "text/plain": [
       "0.7475065118330417"
      ]
     },
     "execution_count": 167,
     "metadata": {},
     "output_type": "execute_result"
    }
   ],
   "source": [
    "Z = one_conv(W,img)\n",
    "\n",
    "plt.imshow(Z, cmap='gray')\n",
    "plt.show()\n",
    "print(Z.shape)\n",
    "\n",
    "np.amax(Z/255)"
   ]
  },
  {
   "cell_type": "code",
   "execution_count": 168,
   "id": "5232bd25-f93e-4789-9bdd-3a5265f7c17f",
   "metadata": {},
   "outputs": [],
   "source": [
    "# next step if to make like the soft max layer\n",
    "# i need to turn the matrix into an array\n",
    "\n",
    "new_Z = np.reshape(Z/255,(441,1))\n"
   ]
  },
  {
   "cell_type": "code",
   "execution_count": 169,
   "id": "cfcbbe9c-e3ef-44df-b603-bf39a617ec33",
   "metadata": {},
   "outputs": [],
   "source": [
    "W_2 = np.random.normal(0, 1, size=(32, 441))"
   ]
  },
  {
   "cell_type": "code",
   "execution_count": 170,
   "id": "e189412d-709c-4948-aaf6-d9bc594ca442",
   "metadata": {},
   "outputs": [],
   "source": [
    "out_1 = W_2 @ new_Z"
   ]
  },
  {
   "cell_type": "code",
   "execution_count": 171,
   "id": "026ece8d-ac83-4b0f-a126-4c605c75d34a",
   "metadata": {},
   "outputs": [],
   "source": [
    "W_3 = np.random.normal(0, 1, size=(10, 32))\n",
    "out_2 = W_3 @ out_1"
   ]
  },
  {
   "cell_type": "code",
   "execution_count": 172,
   "id": "ea00d915-8309-42c2-8258-6365cf9793b8",
   "metadata": {},
   "outputs": [
    {
     "data": {
      "text/plain": [
       "array([[ 25.7271226 ],\n",
       "       [-23.44837017],\n",
       "       [ 60.91527928],\n",
       "       [-58.45370699],\n",
       "       [ -8.10529702],\n",
       "       [ 12.30693214],\n",
       "       [-19.89685342],\n",
       "       [-42.30854267],\n",
       "       [ 16.33337056],\n",
       "       [ -7.92625223]])"
      ]
     },
     "execution_count": 172,
     "metadata": {},
     "output_type": "execute_result"
    }
   ],
   "source": [
    "out_2"
   ]
  },
  {
   "cell_type": "code",
   "execution_count": 382,
   "id": "5ad2dd99-be79-4e26-9486-9e5cf2716335",
   "metadata": {},
   "outputs": [],
   "source": [
    "# Learning\n",
    "\n",
    "# the more turned on a neuron is the more it learns\n",
    "# the idea is if i create athe weights as a function of the inputs then it should be the same as going backprop which looks at how much the wieght impact the loss\n",
    "# which i think is a concequence of the weights being a function of the inputs\n",
    "\n",
    "# create the (1+imput percentage matrix)\n",
    "\n",
    "\n",
    "\n",
    "def create_mem(imput_1):\n",
    "    memory_imput_1 = np.zeros(imput_1.shape)\n",
    "    indexx = 0\n",
    "    the_max_val = np.amax(imput_1)\n",
    "    for i in imput_1:\n",
    "        if (i[0]/the_max_val) < 0.5:\n",
    "            memory_imput_1[indexx] = 1 - i[0]/the_max_val\n",
    "        else:\n",
    "            memory_imput_1[indexx] = 1 + i[0]/the_max_val\n",
    "        indexx += 1\n",
    "    return memory_imput_1\n",
    "\n",
    "def linear(W,output_old):\n",
    "    new_out = W @ output_old\n",
    "    return new_out\n",
    "\n",
    "def update_weights(W, mem):\n",
    "    \n",
    "    new = np.zeros_like(W)\n",
    "    \n",
    "    b = np.reshape(mem,(W.shape[1],))\n",
    "    \n",
    "    for i in range(W.shape[0]):\n",
    "        \n",
    "        new[i] = W[i]*b\n",
    "    return new\n",
    "        \n",
    "        \n",
    "        "
   ]
  },
  {
   "cell_type": "code",
   "execution_count": 388,
   "id": "afc5aae7-48ac-4d8c-8215-a7676a285de1",
   "metadata": {},
   "outputs": [],
   "source": [
    "# testing on itteration\n",
    "# one: No convolution:\n",
    "\n",
    "W_1 = np.random.normal(0,1,size=(32,784))\n",
    "W_2 = np.random.normal(0,1,size=(10,32))\n",
    "\n",
    "def forward_pass(img, W_1,W_2):\n",
    "\n",
    "    imput_1 = np.reshape(img/255,(784,1))\n",
    "    mem_1 = create_mem(imput_1)\n",
    "\n",
    "    out_1 = linear(W_1,imput_1)\n",
    "\n",
    "    mem_2 = create_mem(out_1)\n",
    "\n",
    "    out = linear(W_2,out_1)\n",
    "    \n",
    "    W_1 = update_weights(W_1,mem_1)\n",
    "    \n",
    "    norm = np.linalg.norm(W_1)\n",
    "    W_1 = W_1/norm\n",
    "    \n",
    "    W_2 = update_weights(W_2,mem_2)\n",
    "    \n",
    "    norm = np.linalg.norm(W_2)\n",
    "    W_2 = W_2/norm\n",
    "\n",
    "    \n",
    "    return out,W_1,W_2\n",
    "\n",
    "\n"
   ]
  },
  {
   "cell_type": "code",
   "execution_count": 570,
   "id": "240b6265-75d2-47ea-bdbf-dc9c0ec17666",
   "metadata": {},
   "outputs": [],
   "source": [
    "W_1 = np.random.normal(0,1,size=(32,784))\n",
    "norm = np.linalg.norm(W_1)\n",
    "W_1 = W_1/norm\n",
    "W_2 = np.random.normal(0,1,size=(10,32))\n",
    "norm = np.linalg.norm(W_2)\n",
    "W_2 = W_2/norm\n",
    "total = np.zeros((10,1))"
   ]
  },
  {
   "cell_type": "code",
   "execution_count": 575,
   "id": "15679825-ee90-4054-9f89-281fccbe48bb",
   "metadata": {},
   "outputs": [],
   "source": [
    "\n",
    "\n",
    "def one_iteration(x_train,W_1,W_2,total):\n",
    "    for number in x_train[0:10,:,:]:\n",
    "        out,W_1,W_2 = forward_pass(number,W_1,W_2)\n",
    "        total = np.c_[total,out]\n",
    "\n",
    "\n",
    "\n",
    "        \n",
    "        \n",
    "    return total,W_1,W_2\n",
    "\n",
    "total,W_1,W_2 = one_iteration(x_train,W_1,W_2,total)\n",
    "        \n",
    "        \n",
    "        \n",
    "        "
   ]
  },
  {
   "cell_type": "code",
   "execution_count": 576,
   "id": "48c37022-c7b5-436b-863e-4009bfaa1767",
   "metadata": {},
   "outputs": [
    {
     "data": {
      "image/png": "[encoded data removed]",
      "text/plain": [
       "<Figure size 432x288 with 1 Axes>"
      ]
     },
     "metadata": {
      "needs_background": "light"
     },
     "output_type": "display_data"
    }
   ],
   "source": [
    "\n",
    "\n",
    "plt.imshow(total, cmap='gray')\n",
    "plt.show()\n",
    "\n"
   ]
  },
  {
   "cell_type": "code",
   "execution_count": 577,
   "id": "adfee5d1-d284-407c-8656-104d92f3e494",
   "metadata": {},
   "outputs": [
    {
     "data": {
      "text/plain": [
       "array([-0.0351979 ,  0.01892081, -0.02171046, -0.00968936, -0.00266449,\n",
       "       -0.01693806,  0.00523415,  0.02585484,  0.01832382, -0.00429709])"
      ]
     },
     "execution_count": 577,
     "metadata": {},
     "output_type": "execute_result"
    }
   ],
   "source": [
    "total[:,-1]"
   ]
  },
  {
   "cell_type": "code",
   "execution_count": 578,
   "id": "72491e8d-231b-406b-9c24-b4307dd17cf6",
   "metadata": {},
   "outputs": [
    {
     "data": {
      "text/plain": [
       "(10, 31)"
      ]
     },
     "execution_count": 578,
     "metadata": {},
     "output_type": "execute_result"
    }
   ],
   "source": [
    "total.shape"
   ]
  },
  {
   "cell_type": "code",
   "execution_count": 579,
   "id": "417b2ec4-5227-48e9-a845-5ce640d6c595",
   "metadata": {},
   "outputs": [
    {
     "data": {
      "image/png": "[encoded data removed]",
      "text/plain": [
       "<Figure size 432x288 with 1 Axes>"
      ]
     },
     "metadata": {
      "needs_background": "light"
     },
     "output_type": "display_data"
    }
   ],
   "source": [
    "plt.imshow(W_1, cmap='gray')\n",
    "plt.show()\n"
   ]
  },
  {
   "cell_type": "code",
   "execution_count": 580,
   "id": "bdec68ef-7b09-41de-96c4-cc0648b22ba5",
   "metadata": {},
   "outputs": [
    {
     "data": {
      "image/png": "[encoded data removed]",
      "text/plain": [
       "<Figure size 432x288 with 1 Axes>"
      ]
     },
     "metadata": {
      "needs_background": "light"
     },
     "output_type": "display_data"
    }
   ],
   "source": [
    "plt.imshow(W_2, cmap='gray')\n",
    "plt.show()\n"
   ]
  },
  {
   "cell_type": "code",
   "execution_count": 582,
   "id": "ef5d911b-4372-4317-a835-c395532a8d49",
   "metadata": {},
   "outputs": [],
   "source": [
    "def test(W_1,W_2,img):\n",
    "    out = np.zeros((10,1))\n",
    "    for i in img:\n",
    "        imput_1 = np.reshape(i/255,(784,1))\n",
    "        mem_1 = create_mem(imput_1)\n",
    "\n",
    "        out_1 = linear(W_1,imput_1)\n",
    "\n",
    "        mem_2 = create_mem(out_1)\n",
    "\n",
    "        output = linear(W_2,out_1)\n",
    "        out = np.c_[out,output]\n",
    "\n",
    "    \n",
    "    return out,W_1,W_2\n",
    "    \n",
    "    "
   ]
  },
  {
   "cell_type": "code",
   "execution_count": 583,
   "id": "518bd5fa-1bac-4dd9-93c9-7cea728cd2d7",
   "metadata": {},
   "outputs": [
    {
     "data": {
      "text/plain": [
       "array([5, 0, 4, 1, 9, 2, 1, 3, 1, 4], dtype=uint8)"
      ]
     },
     "execution_count": 583,
     "metadata": {},
     "output_type": "execute_result"
    }
   ],
   "source": [
    "y_train[0:10]"
   ]
  },
  {
   "cell_type": "code",
   "execution_count": 584,
   "id": "a84a01d8-241c-47b7-80dc-8aa01e283bfe",
   "metadata": {},
   "outputs": [
    {
     "data": {
      "image/png": "[encoded data removed]",
      "text/plain": [
       "<Figure size 432x288 with 1 Axes>"
      ]
     },
     "metadata": {
      "needs_background": "light"
     },
     "output_type": "display_data"
    }
   ],
   "source": [
    "out,W_1,W_2 = test(W_1,W_2,x_train[0:10,:,:])\n",
    "plt.imshow(out, cmap='gray')\n",
    "plt.show()"
   ]
  },
  {
   "cell_type": "code",
   "execution_count": 585,
   "id": "2b34b230-6ed4-4a38-a7da-7bb90bdf4857",
   "metadata": {},
   "outputs": [
    {
     "data": {
      "text/plain": [
       "array([-0.20086893,  0.10809493, -0.12410579, -0.05539843, -0.01537103,\n",
       "       -0.09666056,  0.03017014,  0.14729988,  0.10457068, -0.02443837])"
      ]
     },
     "execution_count": 585,
     "metadata": {},
     "output_type": "execute_result"
    }
   ],
   "source": [
    "out[:,4] # 1"
   ]
  },
  {
   "cell_type": "code",
   "execution_count": 586,
   "id": "c282e2a5-c83e-43c7-ac71-dd388df181e0",
   "metadata": {},
   "outputs": [
    {
     "data": {
      "text/plain": [
       "array([-0.2097208 ,  0.11296404, -0.12957726, -0.05789208, -0.01588906,\n",
       "       -0.1009152 ,  0.03152729,  0.15392354,  0.10920541, -0.02559114])"
      ]
     },
     "execution_count": 586,
     "metadata": {},
     "output_type": "execute_result"
    }
   ],
   "source": [
    "out[:,7] # 1"
   ]
  },
  {
   "cell_type": "code",
   "execution_count": 587,
   "id": "6e662405-a8a1-4400-b8d9-6f3107bd85f4",
   "metadata": {},
   "outputs": [
    {
     "data": {
      "text/plain": [
       "array([-0.19304633,  0.10398219, -0.11933485, -0.05330722, -0.01464502,\n",
       "       -0.09287598,  0.02906499,  0.14161755,  0.10056044, -0.02354551])"
      ]
     },
     "execution_count": 587,
     "metadata": {},
     "output_type": "execute_result"
    }
   ],
   "source": [
    "out[:,9] # 1"
   ]
  },
  {
   "cell_type": "code",
   "execution_count": 588,
   "id": "fedf7c02-1a45-42a9-97cb-71c345a2ccc0",
   "metadata": {},
   "outputs": [
    {
     "data": {
      "text/plain": [
       "array([-0.15857634,  0.08554043, -0.09805911, -0.04388475, -0.01187535,\n",
       "       -0.07628598,  0.02394604,  0.11644692,  0.08263777, -0.01938479])"
      ]
     },
     "execution_count": 588,
     "metadata": {},
     "output_type": "execute_result"
    }
   ],
   "source": [
    "out[:,1] # 5"
   ]
  },
  {
   "cell_type": "code",
   "execution_count": 589,
   "id": "0bf6e44a-bc8f-4509-9cba-8c8b90bcf23b",
   "metadata": {},
   "outputs": [
    {
     "data": {
      "text/plain": [
       "array([-0.00509303,  0.00281533, -0.00317226, -0.0014407 , -0.00028098,\n",
       "       -0.00244164,  0.00079411,  0.00380598,  0.00269148, -0.00068327])"
      ]
     },
     "execution_count": 589,
     "metadata": {},
     "output_type": "execute_result"
    }
   ],
   "source": [
    "out[:,2] # 0"
   ]
  },
  {
   "cell_type": "code",
   "execution_count": 601,
   "id": "8bd6de3e-6db4-46d3-ab44-e4eef6ee4a72",
   "metadata": {},
   "outputs": [
    {
     "data": {
      "image/png": "[encoded data removed]",
      "text/plain": [
       "<Figure size 432x288 with 1 Axes>"
      ]
     },
     "metadata": {
      "needs_background": "light"
     },
     "output_type": "display_data"
    }
   ],
   "source": [
    "out,W_1,W_2 = test(W_1,W_2,x_train[0:60,:,:])\n",
    "plt.imshow(out, cmap='gray')\n",
    "plt.show()"
   ]
  },
  {
   "cell_type": "code",
   "execution_count": 596,
   "id": "9eb243be-ced7-4bc5-9954-e3a122f84e4c",
   "metadata": {},
   "outputs": [
    {
     "data": {
      "text/plain": [
       "(10, 41)"
      ]
     },
     "execution_count": 596,
     "metadata": {},
     "output_type": "execute_result"
    }
   ],
   "source": [
    "out.shape"
   ]
  },
  {
   "cell_type": "code",
   "execution_count": 597,
   "id": "76b6116f-7e88-482f-b4ab-339b0c28fab3",
   "metadata": {},
   "outputs": [
    {
     "data": {
      "text/plain": [
       "array([-0.19842105,  0.10684778, -0.12264221, -0.05476839, -0.01508812,\n",
       "       -0.09546623,  0.02983933,  0.14554816,  0.10335489, -0.02419378])"
      ]
     },
     "execution_count": 597,
     "metadata": {},
     "output_type": "execute_result"
    }
   ],
   "source": [
    "out[:,15] # 1"
   ]
  },
  {
   "cell_type": "code",
   "execution_count": 599,
   "id": "bc7f036a-4f26-477b-8b2d-cb9d193b1ce9",
   "metadata": {},
   "outputs": [
    {
     "data": {
      "text/plain": [
       "array([5, 0, 4, 1, 9, 2, 1, 3, 1, 4, 3, 5, 3, 6, 1, 7, 2, 8, 6, 9, 4, 0,\n",
       "       9, 1, 1, 2, 4, 3, 2, 7, 3, 8, 6, 9, 0, 5, 6, 0, 7, 6], dtype=uint8)"
      ]
     },
     "execution_count": 599,
     "metadata": {},
     "output_type": "execute_result"
    }
   ],
   "source": [
    "y_train[0:40]"
   ]
  },
  {
   "cell_type": "code",
   "execution_count": null,
   "id": "40c034e9-b9e6-4a38-98e7-1ed99a84a629",
   "metadata": {},
   "outputs": [],
   "source": []
  }
 ],
 "metadata": {
  "kernelspec": {
   "display_name": "Python 3 (ipykernel)",
   "language": "python",
   "name": "python3"
  },
  "language_info": {
   "codemirror_mode": {
    "name": "ipython",
    "version": 3
   },
   "file_extension": ".py",
   "mimetype": "text/x-python",
   "name": "python",
   "nbconvert_exporter": "python",
   "pygments_lexer": "ipython3",
   "version": "3.9.12"
  }
 },
 "nbformat": 4,
 "nbformat_minor": 5
}
